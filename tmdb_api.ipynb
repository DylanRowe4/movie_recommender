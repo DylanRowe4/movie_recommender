{
 "cells": [
  {
   "cell_type": "code",
   "execution_count": 1,
   "id": "9b96080c-6ec2-4871-ad88-f6d51a129044",
   "metadata": {},
   "outputs": [],
   "source": [
    "import json\n",
    "import time\n",
    "import datetime\n",
    "import requests\n",
    "import numpy as np\n",
    "import pandas as pd\n",
    "from tqdm import tqdm\n",
    "\n",
    "with open('tmdb_api.json', 'r') as rd_f:\n",
    "    tokens = json.load(rd_f)"
   ]
  },
  {
   "cell_type": "code",
   "execution_count": 2,
   "id": "4013d2d5-c716-4c50-bbcd-fbf07121315d",
   "metadata": {},
   "outputs": [],
   "source": [
    "#headers for url request\n",
    "headers = {\n",
    "    \"accept\": \"application/json\",\n",
    "    \"Authorization\": f\"Bearer {tokens['token']}\"}"
   ]
  },
  {
   "cell_type": "markdown",
   "id": "a2649d0a-1f5c-4d64-b7c8-07ab63028c02",
   "metadata": {},
   "source": [
    "List of All Genres"
   ]
  },
  {
   "cell_type": "code",
   "execution_count": 3,
   "id": "a68fe856-d0f6-4518-8c18-f3de6a1306f3",
   "metadata": {},
   "outputs": [
    {
     "name": "stdout",
     "output_type": "stream",
     "text": [
      "{28: 'Action', 12: 'Adventure', 16: 'Animation', 35: 'Comedy', 80: 'Crime', 99: 'Documentary', 18: 'Drama', 10751: 'Family', 14: 'Fantasy', 36: 'History', 27: 'Horror', 10402: 'Music', 9648: 'Mystery', 10749: 'Romance', 878: 'Science Fiction', 10770: 'TV Movie', 53: 'Thriller', 10752: 'War', 37: 'Western'}\n"
     ]
    }
   ],
   "source": [
    "#get genre ids\n",
    "genres_url = \"https://api.themoviedb.org/3/genre/movie/list?language=en\"\n",
    "\n",
    "#send_request to api\n",
    "response = requests.get(genres_url, headers=headers)\n",
    "\n",
    "#extract genres to api\n",
    "genres_list = {genre['id']: genre['name'] for genre in response.json()['genres']}\n",
    "print(genres_list)"
   ]
  },
  {
   "cell_type": "code",
   "execution_count": 4,
   "id": "6c5106a4-0e93-4e25-b89f-7f4900c98563",
   "metadata": {},
   "outputs": [],
   "source": [
    "#url for tv shows\n",
    "# tv_url = \"https://api.themoviedb.org/3/discover/tv?first_air_date.gte=1990-01-01&include_adult=false&include_null_first_air_dates=false&language=en-US&page=1&sort_by=popularity.desc&with_original_language=en\"\n",
    "\n",
    "#url for movies\n",
    "# movie_url = f\"https://api.themoviedb.org/3/discover/movie?include_adult=false&include_video=false&language=en-US&page={page}&release_date.gte={gte}&release_date.lte={lte}&with_origin_country=US&sort_by=release_date.desc\""
   ]
  },
  {
   "cell_type": "markdown",
   "id": "cd9a5024-9440-497d-bdc6-117e369c2daa",
   "metadata": {},
   "source": [
    "Page Number Cannot Be Higher than 500"
   ]
  },
  {
   "cell_type": "code",
   "execution_count": 5,
   "id": "e1c8a9d8-e777-485b-bfc0-ebac303d8be1",
   "metadata": {},
   "outputs": [
    {
     "name": "stdout",
     "output_type": "stream",
     "text": [
      "['2003-01-01', '2003-07-01', '2004-01-01', '2004-07-01', '2005-01-01', '2005-07-01', '2006-01-01', '2006-07-01', '2007-01-01', '2007-07-01', '2008-01-01', '2008-07-01', '2009-01-01', '2009-07-01', '2010-01-01', '2010-07-01', '2011-01-01', '2011-07-01', '2012-01-01', '2012-07-01', '2013-01-01', '2013-07-01', '2014-01-01', '2014-07-01', '2015-01-01', '2015-07-01', '2016-01-01', '2016-07-01', '2017-01-01', '2017-07-01', '2018-01-01', '2018-07-01', '2019-01-01', '2019-07-01', '2020-01-01', '2020-07-01', '2021-01-01', '2021-07-01', '2022-01-01', '2022-07-01']\n"
     ]
    }
   ],
   "source": [
    "#number of years to look back\n",
    "num_years = 20\n",
    "#x year increments\n",
    "increment = 0.5\n",
    "\n",
    "#year of 20 years ago\n",
    "twenty_years = datetime.date.today().year - num_years\n",
    "\n",
    "#increments for the last 20 years\n",
    "twenty_years_list = [str(datetime.date(int(twenty_years + val), int(1 + 12 * (val % 1)), 1))\n",
    "                     for val in np.arange(0, num_years, increment).tolist()]\n",
    "print(twenty_years_list)"
   ]
  },
  {
   "cell_type": "code",
   "execution_count": 6,
   "id": "f31b41e1-7960-4ee8-b191-cba727b686f8",
   "metadata": {},
   "outputs": [
    {
     "name": "stdout",
     "output_type": "stream",
     "text": [
      "Range: (2003-01-02, 2003-07-01) | Total pages: 122\n"
     ]
    },
    {
     "name": "stderr",
     "output_type": "stream",
     "text": [
      "100%|████████████████████████████████████████████████████████████████████████████████| 121/121 [00:35<00:00,  3.44it/s]\n"
     ]
    },
    {
     "name": "stdout",
     "output_type": "stream",
     "text": [
      "Range: (2003-07-02, 2004-01-01) | Total pages: 198\n"
     ]
    },
    {
     "name": "stderr",
     "output_type": "stream",
     "text": [
      "100%|████████████████████████████████████████████████████████████████████████████████| 197/197 [01:18<00:00,  2.51it/s]\n"
     ]
    },
    {
     "name": "stdout",
     "output_type": "stream",
     "text": [
      "Range: (2004-01-02, 2004-07-01) | Total pages: 131\n"
     ]
    },
    {
     "name": "stderr",
     "output_type": "stream",
     "text": [
      "100%|████████████████████████████████████████████████████████████████████████████████| 130/130 [00:13<00:00,  9.64it/s]\n"
     ]
    },
    {
     "name": "stdout",
     "output_type": "stream",
     "text": [
      "Range: (2004-07-02, 2005-01-01) | Total pages: 213\n"
     ]
    },
    {
     "name": "stderr",
     "output_type": "stream",
     "text": [
      "100%|████████████████████████████████████████████████████████████████████████████████| 212/212 [00:35<00:00,  5.90it/s]\n"
     ]
    },
    {
     "name": "stdout",
     "output_type": "stream",
     "text": [
      "Range: (2005-01-02, 2005-07-01) | Total pages: 148\n"
     ]
    },
    {
     "name": "stderr",
     "output_type": "stream",
     "text": [
      "100%|████████████████████████████████████████████████████████████████████████████████| 147/147 [00:23<00:00,  6.17it/s]\n"
     ]
    },
    {
     "name": "stdout",
     "output_type": "stream",
     "text": [
      "Range: (2005-07-02, 2006-01-01) | Total pages: 240\n"
     ]
    },
    {
     "name": "stderr",
     "output_type": "stream",
     "text": [
      "100%|████████████████████████████████████████████████████████████████████████████████| 239/239 [01:45<00:00,  2.27it/s]\n"
     ]
    },
    {
     "name": "stdout",
     "output_type": "stream",
     "text": [
      "Range: (2006-01-02, 2006-07-01) | Total pages: 160\n"
     ]
    },
    {
     "name": "stderr",
     "output_type": "stream",
     "text": [
      "100%|████████████████████████████████████████████████████████████████████████████████| 159/159 [00:29<00:00,  5.47it/s]\n"
     ]
    },
    {
     "name": "stdout",
     "output_type": "stream",
     "text": [
      "Range: (2006-07-02, 2007-01-01) | Total pages: 245\n"
     ]
    },
    {
     "name": "stderr",
     "output_type": "stream",
     "text": [
      "100%|████████████████████████████████████████████████████████████████████████████████| 244/244 [01:06<00:00,  3.66it/s]\n"
     ]
    },
    {
     "name": "stdout",
     "output_type": "stream",
     "text": [
      "Range: (2007-01-02, 2007-07-01) | Total pages: 167\n"
     ]
    },
    {
     "name": "stderr",
     "output_type": "stream",
     "text": [
      "100%|████████████████████████████████████████████████████████████████████████████████| 166/166 [00:48<00:00,  3.45it/s]\n"
     ]
    },
    {
     "name": "stdout",
     "output_type": "stream",
     "text": [
      "Range: (2007-07-02, 2008-01-01) | Total pages: 253\n"
     ]
    },
    {
     "name": "stderr",
     "output_type": "stream",
     "text": [
      "100%|████████████████████████████████████████████████████████████████████████████████| 252/252 [01:25<00:00,  2.94it/s]\n"
     ]
    },
    {
     "name": "stdout",
     "output_type": "stream",
     "text": [
      "Range: (2008-01-02, 2008-07-01) | Total pages: 175\n"
     ]
    },
    {
     "name": "stderr",
     "output_type": "stream",
     "text": [
      "100%|████████████████████████████████████████████████████████████████████████████████| 174/174 [01:10<00:00,  2.47it/s]\n"
     ]
    },
    {
     "name": "stdout",
     "output_type": "stream",
     "text": [
      "Range: (2008-07-02, 2009-01-01) | Total pages: 276\n"
     ]
    },
    {
     "name": "stderr",
     "output_type": "stream",
     "text": [
      "100%|████████████████████████████████████████████████████████████████████████████████| 275/275 [01:10<00:00,  3.89it/s]\n"
     ]
    },
    {
     "name": "stdout",
     "output_type": "stream",
     "text": [
      "Range: (2009-01-02, 2009-07-01) | Total pages: 189\n"
     ]
    },
    {
     "name": "stderr",
     "output_type": "stream",
     "text": [
      "100%|████████████████████████████████████████████████████████████████████████████████| 188/188 [00:58<00:00,  3.20it/s]\n"
     ]
    },
    {
     "name": "stdout",
     "output_type": "stream",
     "text": [
      "Range: (2009-07-02, 2010-01-01) | Total pages: 284\n"
     ]
    },
    {
     "name": "stderr",
     "output_type": "stream",
     "text": [
      "100%|████████████████████████████████████████████████████████████████████████████████| 283/283 [01:14<00:00,  3.79it/s]\n"
     ]
    },
    {
     "name": "stdout",
     "output_type": "stream",
     "text": [
      "Range: (2010-01-02, 2010-07-01) | Total pages: 190\n"
     ]
    },
    {
     "name": "stderr",
     "output_type": "stream",
     "text": [
      "100%|████████████████████████████████████████████████████████████████████████████████| 189/189 [00:52<00:00,  3.62it/s]\n"
     ]
    },
    {
     "name": "stdout",
     "output_type": "stream",
     "text": [
      "Range: (2010-07-02, 2011-01-01) | Total pages: 284\n"
     ]
    },
    {
     "name": "stderr",
     "output_type": "stream",
     "text": [
      "100%|████████████████████████████████████████████████████████████████████████████████| 283/283 [01:13<00:00,  3.84it/s]\n"
     ]
    },
    {
     "name": "stdout",
     "output_type": "stream",
     "text": [
      "Range: (2011-01-02, 2011-07-01) | Total pages: 210\n"
     ]
    },
    {
     "name": "stderr",
     "output_type": "stream",
     "text": [
      "100%|████████████████████████████████████████████████████████████████████████████████| 209/209 [01:17<00:00,  2.69it/s]\n"
     ]
    },
    {
     "name": "stdout",
     "output_type": "stream",
     "text": [
      "Range: (2011-07-02, 2012-01-01) | Total pages: 308\n"
     ]
    },
    {
     "name": "stderr",
     "output_type": "stream",
     "text": [
      "100%|████████████████████████████████████████████████████████████████████████████████| 307/307 [01:40<00:00,  3.05it/s]\n"
     ]
    },
    {
     "name": "stdout",
     "output_type": "stream",
     "text": [
      "Range: (2012-01-02, 2012-07-01) | Total pages: 236\n"
     ]
    },
    {
     "name": "stderr",
     "output_type": "stream",
     "text": [
      "100%|████████████████████████████████████████████████████████████████████████████████| 235/235 [00:45<00:00,  5.18it/s]\n"
     ]
    },
    {
     "name": "stdout",
     "output_type": "stream",
     "text": [
      "Range: (2012-07-02, 2013-01-01) | Total pages: 331\n"
     ]
    },
    {
     "name": "stderr",
     "output_type": "stream",
     "text": [
      "100%|████████████████████████████████████████████████████████████████████████████████| 330/330 [01:06<00:00,  4.98it/s]\n"
     ]
    },
    {
     "name": "stdout",
     "output_type": "stream",
     "text": [
      "Range: (2013-01-02, 2013-07-01) | Total pages: 260\n"
     ]
    },
    {
     "name": "stderr",
     "output_type": "stream",
     "text": [
      "100%|████████████████████████████████████████████████████████████████████████████████| 259/259 [01:14<00:00,  3.48it/s]\n"
     ]
    },
    {
     "name": "stdout",
     "output_type": "stream",
     "text": [
      "Range: (2013-07-02, 2014-01-01) | Total pages: 381\n"
     ]
    },
    {
     "name": "stderr",
     "output_type": "stream",
     "text": [
      "100%|████████████████████████████████████████████████████████████████████████████████| 380/380 [02:16<00:00,  2.79it/s]\n"
     ]
    },
    {
     "name": "stdout",
     "output_type": "stream",
     "text": [
      "Range: (2014-01-02, 2014-07-01) | Total pages: 284\n"
     ]
    },
    {
     "name": "stderr",
     "output_type": "stream",
     "text": [
      "100%|████████████████████████████████████████████████████████████████████████████████| 283/283 [02:55<00:00,  1.61it/s]\n"
     ]
    },
    {
     "name": "stdout",
     "output_type": "stream",
     "text": [
      "Range: (2014-07-02, 2015-01-01) | Total pages: 378\n"
     ]
    },
    {
     "name": "stderr",
     "output_type": "stream",
     "text": [
      "100%|████████████████████████████████████████████████████████████████████████████████| 377/377 [03:02<00:00,  2.06it/s]\n"
     ]
    },
    {
     "name": "stdout",
     "output_type": "stream",
     "text": [
      "Range: (2015-01-02, 2015-07-01) | Total pages: 307\n"
     ]
    },
    {
     "name": "stderr",
     "output_type": "stream",
     "text": [
      "100%|████████████████████████████████████████████████████████████████████████████████| 306/306 [01:38<00:00,  3.10it/s]\n"
     ]
    },
    {
     "name": "stdout",
     "output_type": "stream",
     "text": [
      "Range: (2015-07-02, 2016-01-01) | Total pages: 369\n"
     ]
    },
    {
     "name": "stderr",
     "output_type": "stream",
     "text": [
      "100%|████████████████████████████████████████████████████████████████████████████████| 368/368 [01:14<00:00,  4.94it/s]\n"
     ]
    },
    {
     "name": "stdout",
     "output_type": "stream",
     "text": [
      "Range: (2016-01-02, 2016-07-01) | Total pages: 320\n"
     ]
    },
    {
     "name": "stderr",
     "output_type": "stream",
     "text": [
      "100%|████████████████████████████████████████████████████████████████████████████████| 319/319 [01:00<00:00,  5.32it/s]\n"
     ]
    },
    {
     "name": "stdout",
     "output_type": "stream",
     "text": [
      "Range: (2016-07-02, 2017-01-01) | Total pages: 391\n"
     ]
    },
    {
     "name": "stderr",
     "output_type": "stream",
     "text": [
      "100%|████████████████████████████████████████████████████████████████████████████████| 390/390 [01:14<00:00,  5.27it/s]\n"
     ]
    },
    {
     "name": "stdout",
     "output_type": "stream",
     "text": [
      "Range: (2017-01-02, 2017-07-01) | Total pages: 350\n"
     ]
    },
    {
     "name": "stderr",
     "output_type": "stream",
     "text": [
      "100%|████████████████████████████████████████████████████████████████████████████████| 349/349 [02:19<00:00,  2.51it/s]\n"
     ]
    },
    {
     "name": "stdout",
     "output_type": "stream",
     "text": [
      "Range: (2017-07-02, 2018-01-01) | Total pages: 411\n"
     ]
    },
    {
     "name": "stderr",
     "output_type": "stream",
     "text": [
      "100%|████████████████████████████████████████████████████████████████████████████████| 410/410 [07:20<00:00,  1.07s/it]\n"
     ]
    },
    {
     "name": "stdout",
     "output_type": "stream",
     "text": [
      "Range: (2018-01-02, 2018-07-01) | Total pages: 359\n"
     ]
    },
    {
     "name": "stderr",
     "output_type": "stream",
     "text": [
      "100%|████████████████████████████████████████████████████████████████████████████████| 358/358 [06:17<00:00,  1.06s/it]\n"
     ]
    },
    {
     "name": "stdout",
     "output_type": "stream",
     "text": [
      "Range: (2018-07-02, 2019-01-01) | Total pages: 439\n"
     ]
    },
    {
     "name": "stderr",
     "output_type": "stream",
     "text": [
      "100%|████████████████████████████████████████████████████████████████████████████████| 438/438 [01:27<00:00,  5.01it/s]\n"
     ]
    },
    {
     "name": "stdout",
     "output_type": "stream",
     "text": [
      "Range: (2019-01-02, 2019-07-01) | Total pages: 398\n"
     ]
    },
    {
     "name": "stderr",
     "output_type": "stream",
     "text": [
      "100%|████████████████████████████████████████████████████████████████████████████████| 397/397 [01:43<00:00,  3.85it/s]\n"
     ]
    },
    {
     "name": "stdout",
     "output_type": "stream",
     "text": [
      "Range: (2019-07-02, 2020-01-01) | Total pages: 480\n"
     ]
    },
    {
     "name": "stderr",
     "output_type": "stream",
     "text": [
      "100%|████████████████████████████████████████████████████████████████████████████████| 479/479 [01:33<00:00,  5.13it/s]\n"
     ]
    },
    {
     "name": "stdout",
     "output_type": "stream",
     "text": [
      "Range: (2020-01-02, 2020-07-01) | Total pages: 410\n"
     ]
    },
    {
     "name": "stderr",
     "output_type": "stream",
     "text": [
      "100%|████████████████████████████████████████████████████████████████████████████████| 409/409 [02:18<00:00,  2.95it/s]\n"
     ]
    },
    {
     "name": "stdout",
     "output_type": "stream",
     "text": [
      "Range: (2020-07-02, 2021-01-01) | Total pages: 559\n"
     ]
    },
    {
     "name": "stderr",
     "output_type": "stream",
     "text": [
      "100%|████████████████████████████████████████████████████████████████████████████████| 499/499 [02:20<00:00,  3.56it/s]\n"
     ]
    },
    {
     "name": "stdout",
     "output_type": "stream",
     "text": [
      "Range: (2021-01-02, 2021-07-01) | Total pages: 454\n"
     ]
    },
    {
     "name": "stderr",
     "output_type": "stream",
     "text": [
      "100%|████████████████████████████████████████████████████████████████████████████████| 453/453 [03:52<00:00,  1.95it/s]\n"
     ]
    },
    {
     "name": "stdout",
     "output_type": "stream",
     "text": [
      "Range: (2021-07-02, 2022-01-01) | Total pages: 546\n"
     ]
    },
    {
     "name": "stderr",
     "output_type": "stream",
     "text": [
      "100%|████████████████████████████████████████████████████████████████████████████████| 499/499 [02:55<00:00,  2.84it/s]\n"
     ]
    },
    {
     "name": "stdout",
     "output_type": "stream",
     "text": [
      "Range: (2022-01-02, 2022-07-01) | Total pages: 385\n"
     ]
    },
    {
     "name": "stderr",
     "output_type": "stream",
     "text": [
      "100%|████████████████████████████████████████████████████████████████████████████████| 384/384 [01:28<00:00,  4.32it/s]\n"
     ]
    },
    {
     "name": "stdout",
     "output_type": "stream",
     "text": [
      "Range: (2022-07-02, 2023-12-06) | Total pages: 1,014\n"
     ]
    },
    {
     "name": "stderr",
     "output_type": "stream",
     "text": [
      "100%|████████████████████████████████████████████████████████████████████████████████| 499/499 [01:44<00:00,  4.79it/s]\n"
     ]
    }
   ],
   "source": [
    "total_movies = []\n",
    "failed = []\n",
    "\n",
    "#iterate through all time ranges and pages\n",
    "for i in range(len(twenty_years_list)):\n",
    "    #set api filters\n",
    "    if i == len(twenty_years_list) - 1:\n",
    "        page, gte, lte = 1, twenty_years_list[i], str(datetime.date.today())\n",
    "    else:\n",
    "        page, gte, lte = 1, twenty_years_list[i], twenty_years_list[i+1]\n",
    "    #add one day to greater than date\n",
    "    gte = f\"{gte[:-1]}{int(gte[-1]) + 1}\"\n",
    "    \n",
    "    #format url for api call\n",
    "    url = f\"https://api.themoviedb.org/3/discover/movie?include_adult=false&include_video=false&language=en-US&page={page}&release_date.gte={gte}&release_date.lte={lte}&with_origin_country=US&sort_by=release_date.desc\"\n",
    "    \n",
    "    #send_request to api\n",
    "    response = requests.get(url, headers=headers)\n",
    "\n",
    "    #extract total pages\n",
    "    total_pages = response.json()['total_pages']\n",
    "    print(f\"Range: ({gte}, {lte}) | Total pages: {total_pages:,}\")\n",
    "    \n",
    "    for x in tqdm(range(1, total_pages if total_pages < 501 else 500)):\n",
    "        try:\n",
    "            #format url for api call\n",
    "            url = f\"https://api.themoviedb.org/3/discover/movie?include_adult=false&include_video=false&language=en-US&page={x}&release_date.gte={gte}&release_date.lte={lte}&with_origin_country=US&sort_by=release_date.asc\"\n",
    "            #send request to api\n",
    "            response = requests.get(url, headers=headers)\n",
    "            #append results to overall list\n",
    "            total_movies += response.json()['results']\n",
    "        except:\n",
    "            failed.append(f\"Range: ({gte}, {lte}) | Page: {x:,}\")"
   ]
  },
  {
   "cell_type": "code",
   "execution_count": 7,
   "id": "f96b769e-cae9-48c3-b1dc-0da4b276c38f",
   "metadata": {},
   "outputs": [],
   "source": [
    "#turn into dataframe\n",
    "total_movies = pd.DataFrame(total_movies)\n",
    "\n",
    "#remove any duplicates\n",
    "total_movies = total_movies.drop_duplicates('title', keep='first').reset_index(drop=True)\n",
    "\n",
    "#return to original format\n",
    "total_movies = total_movies.to_dict(orient='records')\n",
    "\n",
    "#remove movies with no poster path\n",
    "total_movies = [movie for movie in total_movies if movie['poster_path'] is not None]"
   ]
  },
  {
   "cell_type": "code",
   "execution_count": 8,
   "id": "c8e93c69-6638-458a-8718-8d789cfacd26",
   "metadata": {},
   "outputs": [
    {
     "name": "stderr",
     "output_type": "stream",
     "text": [
      "100%|██████████████████████████████████████████████████████████████████████| 134938/134938 [00:00<00:00, 197172.28it/s]"
     ]
    },
    {
     "name": "stdout",
     "output_type": "stream",
     "text": [
      "Total Movies: 134,938\n"
     ]
    },
    {
     "name": "stderr",
     "output_type": "stream",
     "text": [
      "\n"
     ]
    }
   ],
   "source": [
    "#map genre ids to genre text and complete poster path\n",
    "for i in tqdm(range(len(total_movies))):\n",
    "    total_movies[i]['genres'] = [genres_list[id_] for id_ in total_movies[i]['genre_ids']]\n",
    "    total_movies[i]['poster_path'] = f\"https://image.tmdb.org/t/p/w500/{total_movies[i]['poster_path']}\"\n",
    "    \n",
    "print(f\"Total Movies: {len(total_movies):,}\")"
   ]
  },
  {
   "cell_type": "code",
   "execution_count": 9,
   "id": "175e517f-4750-4156-8940-0c533aae347d",
   "metadata": {},
   "outputs": [],
   "source": [
    "with open('../movies_database.json', 'w') as wt_f:\n",
    "    json.dump(total_movies, wt_f)"
   ]
  },
  {
   "cell_type": "code",
   "execution_count": null,
   "id": "c46d84fe-6877-40e4-b882-687d5150b0aa",
   "metadata": {},
   "outputs": [],
   "source": []
  }
 ],
 "metadata": {
  "kernelspec": {
   "display_name": "py310",
   "language": "python",
   "name": "py310"
  },
  "language_info": {
   "codemirror_mode": {
    "name": "ipython",
    "version": 3
   },
   "file_extension": ".py",
   "mimetype": "text/x-python",
   "name": "python",
   "nbconvert_exporter": "python",
   "pygments_lexer": "ipython3",
   "version": "3.10.9"
  }
 },
 "nbformat": 4,
 "nbformat_minor": 5
}
