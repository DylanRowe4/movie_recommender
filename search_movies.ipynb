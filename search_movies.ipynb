{
 "cells": [
  {
   "cell_type": "code",
   "execution_count": 1,
   "id": "1e70b149-a2ee-408a-a04c-e5d36854ccf2",
   "metadata": {},
   "outputs": [],
   "source": [
    "import os, json\n",
    "from movie_recommenders.MovieFinder import MovieRecommender"
   ]
  },
  {
   "cell_type": "code",
   "execution_count": 2,
   "id": "2fd003c6-44dc-4a19-b9e3-324160de8073",
   "metadata": {},
   "outputs": [],
   "source": [
    "#instantiate our movie recommender class\n",
    "recommender = MovieRecommender()"
   ]
  },
  {
   "cell_type": "code",
   "execution_count": 3,
   "id": "b5729e06-4b87-42f3-aeea-3e6e558ed767",
   "metadata": {},
   "outputs": [
    {
     "name": "stdout",
     "output_type": "stream",
     "text": [
      "CPU times: total: 1.86 s\n",
      "Wall time: 2.48 s\n"
     ]
    }
   ],
   "source": [
    "%%time\n",
    "search_by_name = 'Lord of the Rings'\n",
    "\n",
    "search_by_desc = \"\"\"Frodo, a Christlike figure, learns that the ring has the power to control the entire world and, he discovers,\n",
    "to corrupt its owner. A fellowship of hobbits, elves, dwarfs, and men is formed to destroy the ring by casting it into the volcanic\n",
    "fires of the Crack of Doom, where it was forged.\"\"\"\n",
    "\n",
    "#search through database\n",
    "my_movies, genre = recommender.search_movies(search_by_name, 10)"
   ]
  },
  {
   "cell_type": "code",
   "execution_count": 4,
   "id": "f01e9fea-bc47-43c1-91e4-1d8295541694",
   "metadata": {},
   "outputs": [
    {
     "name": "stdout",
     "output_type": "stream",
     "text": [
      "The Lord of the Rings: The Return of the King:\n",
      "\n",
      "Aragorn is revealed as the heir to the ancient kings as he, Gandalf and the other members of the broken fellowship struggle to save Gondor from Sauron's forces. Meanwhile, Frodo and Sam take the ring closer to the heart of Mordor, the dark lord's realm.\n",
      "\n",
      "\n",
      "--------------------------------------------------\n",
      "The Lord of the Rings: The Two Towers:\n",
      "\n",
      "Frodo and Sam are trekking to Mordor to destroy the One Ring of Power while Gimli, Legolas and Aragorn search for the orc-captured Merry and Pippin. All along, nefarious wizard Saruman awaits the Fellowship members at the Orthanc Tower in Isengard.\n",
      "\n",
      "\n",
      "--------------------------------------------------\n",
      "The Lord of the Rings: The Fellowship of the Ring:\n",
      "\n",
      "Young hobbit Frodo Baggins, after inheriting a mysterious ring from his uncle Bilbo, must leave his home in order to keep it from falling into the hands of its evil creator. Along the way, a fellowship is formed to protect the ringbearer and make sure that the ring arrives at its final destination: Mt. Doom, the only place where it can be destroyed.\n",
      "\n",
      "\n",
      "--------------------------------------------------\n",
      "The Hobbit: The Desolation of Smaug:\n",
      "\n",
      "The Dwarves, Bilbo and Gandalf have successfully escaped the Misty Mountains, and Bilbo has gained the One Ring. They all continue their journey to get their gold back from the Dragon, Smaug.\n",
      "\n",
      "\n",
      "--------------------------------------------------\n",
      "Secrets of Middle-Earth:  Inside Tolkien's The Fellowship of the Ring:\n",
      "\n",
      "The documentary Inside Tolkien's The Fellowship of the Ring traces the journey taken by the characters in the classic novel. In addition to offering insight into the characters, the filmmakers show what real-life works shaped the author's imagination as he created one of the most beloved books of the 20th century.\n",
      "\n",
      "\n",
      "--------------------------------------------------\n",
      "Dagor Dagorath:\n",
      "\n",
      "The Dagor Dagorath or the Final Battle is the end-times event described in the works of J. R. R. Tolkien, in which the forces of evil will wage a final battle against the forces of good, bringing an end to the world as we know it, so that a new one may be born. This short animated film was based on the prophecy made by the Ainu Mandos, one of the Valar, and imagines how the Dark Lord Melkor will return and how he will bring the ultimate darkness to Eä.\n",
      "\n",
      "\n",
      "--------------------------------------------------\n",
      "The Hobbit: The Battle of the Five Armies:\n",
      "\n",
      "Immediately after the events of The Desolation of Smaug, Bilbo and the dwarves try to defend Erebor's mountain of treasure from others who claim it: the men of the ruined Laketown and the elves of Mirkwood. Meanwhile an army of Orcs led by Azog the Defiler is marching on Erebor, fueled by the rise of the dark lord Sauron. Dwarves, elves and men must unite, and the hope for Middle-Earth falls into Bilbo's hands.\n",
      "\n",
      "\n",
      "--------------------------------------------------\n",
      "Rise of the Fellowship:\n",
      "\n",
      "Randall Dooley is a geek. His three best friends are geeks too. He works in a game shop, he spends all his free time playing online games, his older brother bullies him unmercifully, his widowed mom doesn't understand him, and he's hopelessly in love with the prettiest cheerleader in high school. In short, he's a loser. All of that changes when he hears of the Lord of the Rings gaming competition in Orlando, Florida. Finally! Meaning in life! The FellowsHip is a buddy-comedy written in honor of online gamers and The Lord of the Rings. Full of Tolkien-references and good-hearted parody, The FellowsHip will appeal to Tolkien-fans and gamers alike, as well as anyone who's never been part of the in-crowd.\n",
      "\n",
      "\n",
      "--------------------------------------------------\n",
      "Inside Jamie Noble's Last Match:\n",
      "\n",
      "A short documentary chronicling Jamie Noble's journey to his return to the ring.\n",
      "\n",
      "\n",
      "--------------------------------------------------\n",
      "Götterdämmerung - San Francisco Opera:\n",
      "\n",
      "As the end nears for the gods, and human ambition rules the world, Alberich’s son Hagen hatches a plot to take control of the ring, threatening the union of Siegfried and Brünnhilde. Fueled by greed, Hagen’s actions lead to chaos and destruction, until Brünnhilde steps forward to return the world to its natural order.\n",
      "\n",
      "\n",
      "--------------------------------------------------\n",
      "Secrets of Middle-Earth: Inside Tolkien's The Return of the King:\n",
      "\n",
      "Documentary about the writing of the final part of the Lord of the Rings\n",
      "\n",
      "\n",
      "--------------------------------------------------\n"
     ]
    }
   ],
   "source": [
    "for movie in my_movies:\n",
    "    print(f\"{movie['title']}:\\n\\n{movie['overview']}\\n\\n\")\n",
    "    print('-'*50)"
   ]
  },
  {
   "cell_type": "code",
   "execution_count": null,
   "id": "d855545f-60ad-48f0-aaba-f5d814a7c053",
   "metadata": {},
   "outputs": [],
   "source": []
  }
 ],
 "metadata": {
  "kernelspec": {
   "display_name": "py310",
   "language": "python",
   "name": "py310"
  },
  "language_info": {
   "codemirror_mode": {
    "name": "ipython",
    "version": 3
   },
   "file_extension": ".py",
   "mimetype": "text/x-python",
   "name": "python",
   "nbconvert_exporter": "python",
   "pygments_lexer": "ipython3",
   "version": "3.10.9"
  }
 },
 "nbformat": 4,
 "nbformat_minor": 5
}
